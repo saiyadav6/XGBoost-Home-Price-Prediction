{
 "cells": [
  {
   "cell_type": "code",
   "execution_count": 1,
   "metadata": {
    "_cell_guid": "ed04a10c-135f-68d2-ed73-17ff26072e13"
   },
   "outputs": [
    {
     "name": "stderr",
     "output_type": "stream",
     "text": [
      "/opt/conda/lib/python3.5/site-packages/sklearn/cross_validation.py:44: DeprecationWarning: This module was deprecated in version 0.18 in favor of the model_selection module into which all the refactored classes and functions are moved. Also note that the interface of the new CV iterators are different from that of this module. This module will be removed in 0.20.\n",
      "  \"This module will be removed in 0.20.\", DeprecationWarning)\n",
      "/opt/conda/lib/python3.5/site-packages/sklearn/grid_search.py:43: DeprecationWarning: This module was deprecated in version 0.18 in favor of the model_selection module into which all the refactored classes and functions are moved. This module will be removed in 0.20.\n",
      "  DeprecationWarning)\n"
     ]
    }
   ],
   "source": [
    "import numpy as np # linear algebra\n",
    "import pandas as pd # data processing, CSV file I/O (e.g. pd.read_csv)\n",
    "import xgboost\n",
    "import csv as csv\n",
    "from xgboost import plot_importance\n",
    "from matplotlib import pyplot\n",
    "from sklearn.model_selection import cross_val_score,KFold\n",
    "from sklearn.cross_validation import  train_test_split\n",
    "from sklearn.metrics import mean_absolute_error\n",
    "import matplotlib.pyplot as plt\n",
    "from sklearn.grid_search import GridSearchCV   #Perforing grid search\n",
    "from scipy.stats import skew\n",
    "from collections import OrderedDict"
   ]
  },
  {
   "cell_type": "code",
   "execution_count": 2,
   "metadata": {
    "_cell_guid": "1a276259-d6e8-4311-45b4-3aeb7998956e"
   },
   "outputs": [],
   "source": [
    "train_dataset=pd.read_csv('../input/train.csv', header=0)\n",
    "test_dataset=pd.read_csv('../input/test.csv', header=0)"
   ]
  },
  {
   "cell_type": "markdown",
   "metadata": {
    "_cell_guid": "b147e46e-11e3-762b-0144-abd3b3ef086f"
   },
   "source": [
    "#Study features"
   ]
  },
  {
   "cell_type": "code",
   "execution_count": 3,
   "metadata": {
    "_cell_guid": "7e817800-7dee-87f2-563e-83db705deaac"
   },
   "outputs": [
    {
     "name": "stderr",
     "output_type": "stream",
     "text": [
      "/opt/conda/lib/python3.5/site-packages/numpy/lib/function_base.py:3834: RuntimeWarning: Invalid value encountered in percentile\n",
      "  RuntimeWarning)\n"
     ]
    },
    {
     "data": {
      "text/html": [
       "<div>\n",
       "<table border=\"1\" class=\"dataframe\">\n",
       "  <thead>\n",
       "    <tr style=\"text-align: right;\">\n",
       "      <th></th>\n",
       "      <th>Id</th>\n",
       "      <th>MSSubClass</th>\n",
       "      <th>LotFrontage</th>\n",
       "      <th>LotArea</th>\n",
       "      <th>OverallQual</th>\n",
       "      <th>OverallCond</th>\n",
       "      <th>YearBuilt</th>\n",
       "      <th>YearRemodAdd</th>\n",
       "      <th>MasVnrArea</th>\n",
       "      <th>BsmtFinSF1</th>\n",
       "      <th>...</th>\n",
       "      <th>WoodDeckSF</th>\n",
       "      <th>OpenPorchSF</th>\n",
       "      <th>EnclosedPorch</th>\n",
       "      <th>3SsnPorch</th>\n",
       "      <th>ScreenPorch</th>\n",
       "      <th>PoolArea</th>\n",
       "      <th>MiscVal</th>\n",
       "      <th>MoSold</th>\n",
       "      <th>YrSold</th>\n",
       "      <th>SalePrice</th>\n",
       "    </tr>\n",
       "  </thead>\n",
       "  <tbody>\n",
       "    <tr>\n",
       "      <th>count</th>\n",
       "      <td>1460.000000</td>\n",
       "      <td>1460.000000</td>\n",
       "      <td>1201.000000</td>\n",
       "      <td>1460.000000</td>\n",
       "      <td>1460.000000</td>\n",
       "      <td>1460.000000</td>\n",
       "      <td>1460.000000</td>\n",
       "      <td>1460.000000</td>\n",
       "      <td>1452.000000</td>\n",
       "      <td>1460.000000</td>\n",
       "      <td>...</td>\n",
       "      <td>1460.000000</td>\n",
       "      <td>1460.000000</td>\n",
       "      <td>1460.000000</td>\n",
       "      <td>1460.000000</td>\n",
       "      <td>1460.000000</td>\n",
       "      <td>1460.000000</td>\n",
       "      <td>1460.000000</td>\n",
       "      <td>1460.000000</td>\n",
       "      <td>1460.000000</td>\n",
       "      <td>1460.000000</td>\n",
       "    </tr>\n",
       "    <tr>\n",
       "      <th>mean</th>\n",
       "      <td>730.500000</td>\n",
       "      <td>56.897260</td>\n",
       "      <td>70.049958</td>\n",
       "      <td>10516.828082</td>\n",
       "      <td>6.099315</td>\n",
       "      <td>5.575342</td>\n",
       "      <td>1971.267808</td>\n",
       "      <td>1984.865753</td>\n",
       "      <td>103.685262</td>\n",
       "      <td>443.639726</td>\n",
       "      <td>...</td>\n",
       "      <td>94.244521</td>\n",
       "      <td>46.660274</td>\n",
       "      <td>21.954110</td>\n",
       "      <td>3.409589</td>\n",
       "      <td>15.060959</td>\n",
       "      <td>2.758904</td>\n",
       "      <td>43.489041</td>\n",
       "      <td>6.321918</td>\n",
       "      <td>2007.815753</td>\n",
       "      <td>180921.195890</td>\n",
       "    </tr>\n",
       "    <tr>\n",
       "      <th>std</th>\n",
       "      <td>421.610009</td>\n",
       "      <td>42.300571</td>\n",
       "      <td>24.284752</td>\n",
       "      <td>9981.264932</td>\n",
       "      <td>1.382997</td>\n",
       "      <td>1.112799</td>\n",
       "      <td>30.202904</td>\n",
       "      <td>20.645407</td>\n",
       "      <td>181.066207</td>\n",
       "      <td>456.098091</td>\n",
       "      <td>...</td>\n",
       "      <td>125.338794</td>\n",
       "      <td>66.256028</td>\n",
       "      <td>61.119149</td>\n",
       "      <td>29.317331</td>\n",
       "      <td>55.757415</td>\n",
       "      <td>40.177307</td>\n",
       "      <td>496.123024</td>\n",
       "      <td>2.703626</td>\n",
       "      <td>1.328095</td>\n",
       "      <td>79442.502883</td>\n",
       "    </tr>\n",
       "    <tr>\n",
       "      <th>min</th>\n",
       "      <td>1.000000</td>\n",
       "      <td>20.000000</td>\n",
       "      <td>21.000000</td>\n",
       "      <td>1300.000000</td>\n",
       "      <td>1.000000</td>\n",
       "      <td>1.000000</td>\n",
       "      <td>1872.000000</td>\n",
       "      <td>1950.000000</td>\n",
       "      <td>0.000000</td>\n",
       "      <td>0.000000</td>\n",
       "      <td>...</td>\n",
       "      <td>0.000000</td>\n",
       "      <td>0.000000</td>\n",
       "      <td>0.000000</td>\n",
       "      <td>0.000000</td>\n",
       "      <td>0.000000</td>\n",
       "      <td>0.000000</td>\n",
       "      <td>0.000000</td>\n",
       "      <td>1.000000</td>\n",
       "      <td>2006.000000</td>\n",
       "      <td>34900.000000</td>\n",
       "    </tr>\n",
       "    <tr>\n",
       "      <th>25%</th>\n",
       "      <td>365.750000</td>\n",
       "      <td>20.000000</td>\n",
       "      <td>NaN</td>\n",
       "      <td>7553.500000</td>\n",
       "      <td>5.000000</td>\n",
       "      <td>5.000000</td>\n",
       "      <td>1954.000000</td>\n",
       "      <td>1967.000000</td>\n",
       "      <td>NaN</td>\n",
       "      <td>0.000000</td>\n",
       "      <td>...</td>\n",
       "      <td>0.000000</td>\n",
       "      <td>0.000000</td>\n",
       "      <td>0.000000</td>\n",
       "      <td>0.000000</td>\n",
       "      <td>0.000000</td>\n",
       "      <td>0.000000</td>\n",
       "      <td>0.000000</td>\n",
       "      <td>5.000000</td>\n",
       "      <td>2007.000000</td>\n",
       "      <td>129975.000000</td>\n",
       "    </tr>\n",
       "    <tr>\n",
       "      <th>50%</th>\n",
       "      <td>730.500000</td>\n",
       "      <td>50.000000</td>\n",
       "      <td>NaN</td>\n",
       "      <td>9478.500000</td>\n",
       "      <td>6.000000</td>\n",
       "      <td>5.000000</td>\n",
       "      <td>1973.000000</td>\n",
       "      <td>1994.000000</td>\n",
       "      <td>NaN</td>\n",
       "      <td>383.500000</td>\n",
       "      <td>...</td>\n",
       "      <td>0.000000</td>\n",
       "      <td>25.000000</td>\n",
       "      <td>0.000000</td>\n",
       "      <td>0.000000</td>\n",
       "      <td>0.000000</td>\n",
       "      <td>0.000000</td>\n",
       "      <td>0.000000</td>\n",
       "      <td>6.000000</td>\n",
       "      <td>2008.000000</td>\n",
       "      <td>163000.000000</td>\n",
       "    </tr>\n",
       "    <tr>\n",
       "      <th>75%</th>\n",
       "      <td>1095.250000</td>\n",
       "      <td>70.000000</td>\n",
       "      <td>NaN</td>\n",
       "      <td>11601.500000</td>\n",
       "      <td>7.000000</td>\n",
       "      <td>6.000000</td>\n",
       "      <td>2000.000000</td>\n",
       "      <td>2004.000000</td>\n",
       "      <td>NaN</td>\n",
       "      <td>712.250000</td>\n",
       "      <td>...</td>\n",
       "      <td>168.000000</td>\n",
       "      <td>68.000000</td>\n",
       "      <td>0.000000</td>\n",
       "      <td>0.000000</td>\n",
       "      <td>0.000000</td>\n",
       "      <td>0.000000</td>\n",
       "      <td>0.000000</td>\n",
       "      <td>8.000000</td>\n",
       "      <td>2009.000000</td>\n",
       "      <td>214000.000000</td>\n",
       "    </tr>\n",
       "    <tr>\n",
       "      <th>max</th>\n",
       "      <td>1460.000000</td>\n",
       "      <td>190.000000</td>\n",
       "      <td>313.000000</td>\n",
       "      <td>215245.000000</td>\n",
       "      <td>10.000000</td>\n",
       "      <td>9.000000</td>\n",
       "      <td>2010.000000</td>\n",
       "      <td>2010.000000</td>\n",
       "      <td>1600.000000</td>\n",
       "      <td>5644.000000</td>\n",
       "      <td>...</td>\n",
       "      <td>857.000000</td>\n",
       "      <td>547.000000</td>\n",
       "      <td>552.000000</td>\n",
       "      <td>508.000000</td>\n",
       "      <td>480.000000</td>\n",
       "      <td>738.000000</td>\n",
       "      <td>15500.000000</td>\n",
       "      <td>12.000000</td>\n",
       "      <td>2010.000000</td>\n",
       "      <td>755000.000000</td>\n",
       "    </tr>\n",
       "  </tbody>\n",
       "</table>\n",
       "<p>8 rows × 38 columns</p>\n",
       "</div>"
      ],
      "text/plain": [
       "                Id   MSSubClass  LotFrontage        LotArea  OverallQual  \\\n",
       "count  1460.000000  1460.000000  1201.000000    1460.000000  1460.000000   \n",
       "mean    730.500000    56.897260    70.049958   10516.828082     6.099315   \n",
       "std     421.610009    42.300571    24.284752    9981.264932     1.382997   \n",
       "min       1.000000    20.000000    21.000000    1300.000000     1.000000   \n",
       "25%     365.750000    20.000000          NaN    7553.500000     5.000000   \n",
       "50%     730.500000    50.000000          NaN    9478.500000     6.000000   \n",
       "75%    1095.250000    70.000000          NaN   11601.500000     7.000000   \n",
       "max    1460.000000   190.000000   313.000000  215245.000000    10.000000   \n",
       "\n",
       "       OverallCond    YearBuilt  YearRemodAdd   MasVnrArea   BsmtFinSF1  \\\n",
       "count  1460.000000  1460.000000   1460.000000  1452.000000  1460.000000   \n",
       "mean      5.575342  1971.267808   1984.865753   103.685262   443.639726   \n",
       "std       1.112799    30.202904     20.645407   181.066207   456.098091   \n",
       "min       1.000000  1872.000000   1950.000000     0.000000     0.000000   \n",
       "25%       5.000000  1954.000000   1967.000000          NaN     0.000000   \n",
       "50%       5.000000  1973.000000   1994.000000          NaN   383.500000   \n",
       "75%       6.000000  2000.000000   2004.000000          NaN   712.250000   \n",
       "max       9.000000  2010.000000   2010.000000  1600.000000  5644.000000   \n",
       "\n",
       "           ...         WoodDeckSF  OpenPorchSF  EnclosedPorch    3SsnPorch  \\\n",
       "count      ...        1460.000000  1460.000000    1460.000000  1460.000000   \n",
       "mean       ...          94.244521    46.660274      21.954110     3.409589   \n",
       "std        ...         125.338794    66.256028      61.119149    29.317331   \n",
       "min        ...           0.000000     0.000000       0.000000     0.000000   \n",
       "25%        ...           0.000000     0.000000       0.000000     0.000000   \n",
       "50%        ...           0.000000    25.000000       0.000000     0.000000   \n",
       "75%        ...         168.000000    68.000000       0.000000     0.000000   \n",
       "max        ...         857.000000   547.000000     552.000000   508.000000   \n",
       "\n",
       "       ScreenPorch     PoolArea       MiscVal       MoSold       YrSold  \\\n",
       "count  1460.000000  1460.000000   1460.000000  1460.000000  1460.000000   \n",
       "mean     15.060959     2.758904     43.489041     6.321918  2007.815753   \n",
       "std      55.757415    40.177307    496.123024     2.703626     1.328095   \n",
       "min       0.000000     0.000000      0.000000     1.000000  2006.000000   \n",
       "25%       0.000000     0.000000      0.000000     5.000000  2007.000000   \n",
       "50%       0.000000     0.000000      0.000000     6.000000  2008.000000   \n",
       "75%       0.000000     0.000000      0.000000     8.000000  2009.000000   \n",
       "max     480.000000   738.000000  15500.000000    12.000000  2010.000000   \n",
       "\n",
       "           SalePrice  \n",
       "count    1460.000000  \n",
       "mean   180921.195890  \n",
       "std     79442.502883  \n",
       "min     34900.000000  \n",
       "25%    129975.000000  \n",
       "50%    163000.000000  \n",
       "75%    214000.000000  \n",
       "max    755000.000000  \n",
       "\n",
       "[8 rows x 38 columns]"
      ]
     },
     "execution_count": 3,
     "metadata": {},
     "output_type": "execute_result"
    }
   ],
   "source": [
    "categorical_features=['MSSubClass','MSZoning','Street','Alley','LotShape','LandContour','Utilities',\n",
    "                      'LotConfig','LandSlope','Neighborhood','Condition1','Condition2','BldgType','HouseStyle',\n",
    "                      'RoofStyle','RoofMatl','Exterior1st','Exterior2nd','MasVnrType','ExterQual','ExterCond',\n",
    "                      'Foundation','BsmtQual','BsmtCond','BsmtExposure','BsmtFinType1','BsmtFinType2','Heating',\n",
    "                      'HeatingQC','CentralAir','Electrical','KitchenQual','Functional','FireplaceQu',\n",
    "                     'GarageType','GarageFinish','GarageQual','GarageCond','PavedDrive','PoolQC','Fence',\n",
    "                     'MiscFeature','SaleType','SaleCondition']\n",
    "every_column_except_y= [col for col in train_dataset.columns if col not in ['SalePrice','Id']]\n",
    "train_dataset.describe()"
   ]
  },
  {
   "cell_type": "markdown",
   "metadata": {
    "_cell_guid": "c0c3e77e-573a-aa60-5160-9e704c87ce71"
   },
   "source": [
    "#Preparing the dataset"
   ]
  },
  {
   "cell_type": "markdown",
   "metadata": {
    "_cell_guid": "5caf8d59-2de6-dac4-7686-c7384bff5c00"
   },
   "source": [
    "## Normalizing"
   ]
  },
  {
   "cell_type": "code",
   "execution_count": 4,
   "metadata": {
    "_cell_guid": "71f4f05e-bb72-45b9-2525-07178370f620"
   },
   "outputs": [],
   "source": [
    "#thanks to https://www.kaggle.com/apapiu/house-prices-advanced-regression-techniques/regularized-linear-models\n",
    "\n",
    "every_column_non_categorical= [col for col in train_dataset.columns if col not in categorical_features and col not in ['Id'] ]\n",
    "\n",
    "#log transform skewed numeric features:\n",
    "numeric_feats = train_dataset[every_column_non_categorical].dtypes[train_dataset.dtypes != \"object\"].index\n",
    "\n",
    "#skewed_feats = train_dataset[numeric_feats].apply(lambda x: skew(x.dropna())) #compute skewness\n",
    "#skewed_feats = skewed_feats[skewed_feats > 0.75]\n",
    "#skewed_feats = skewed_feats.index\n",
    "\n",
    "train_dataset[numeric_feats] = np.log1p(train_dataset[numeric_feats])\n",
    "\n",
    "every_column_non_categorical= [col for col in test_dataset.columns if col not in categorical_features and col not in ['Id'] ]\n",
    "numeric_feats = test_dataset[every_column_non_categorical].dtypes[test_dataset.dtypes != \"object\"].index\n",
    "test_dataset[numeric_feats] = np.log1p(test_dataset[numeric_feats])"
   ]
  },
  {
   "cell_type": "markdown",
   "metadata": {
    "_cell_guid": "589bb498-8f1e-7668-fe2a-5c99f6e5084a"
   },
   "source": [
    "## Cleaning"
   ]
  },
  {
   "cell_type": "code",
   "execution_count": 5,
   "metadata": {
    "_cell_guid": "0ff9ccdf-e6fe-e4c4-f6e2-945ebab3c846"
   },
   "outputs": [],
   "source": [
    "features_with_nan=['Alley','MasVnrType','BsmtQual','BsmtQual','BsmtCond','BsmtCond','BsmtExposure',\n",
    "                   'BsmtFinType1','BsmtFinType2','FireplaceQu','GarageType','GarageFinish']\n",
    "#function that creates a column for every value it might have\n",
    "def ConverNaNToNAString(data, columnList):\n",
    "    for x in columnList:       \n",
    "        data[x] =str(data[x])              \n",
    "            \n",
    "\n",
    "ConverNaNToNAString(train_dataset, features_with_nan)\n",
    "ConverNaNToNAString(test_dataset, features_with_nan)"
   ]
  },
  {
   "cell_type": "markdown",
   "metadata": {
    "_cell_guid": "eba091ee-f813-284a-feb8-5d6590a6ea78"
   },
   "source": [
    "## Creating columns from each categorical feature value"
   ]
  },
  {
   "cell_type": "code",
   "execution_count": 6,
   "metadata": {
    "_cell_guid": "177ccebd-a226-d535-8222-9f68c00c9079"
   },
   "outputs": [],
   "source": [
    "#function that creates a column for every value it might have\n",
    "def CreateColumnPerValue(data, columnList):\n",
    "    for x in columnList:\n",
    "\n",
    "        values=pd.unique(data[x])\n",
    "        \n",
    "        for v in values:\n",
    "            column_name=x+\"_\"+str(v)   \n",
    "            data[column_name]=(data[x]==v).astype(float)\n",
    "    \n",
    "        data.drop(x, axis=1, inplace=True)\n",
    "        "
   ]
  },
  {
   "cell_type": "code",
   "execution_count": 7,
   "metadata": {
    "_cell_guid": "2e044841-7ae9-f8ad-9761-306bac76ad4b"
   },
   "outputs": [],
   "source": [
    "#CreateColumnPerValue(train_dataset,categorical_features)\n",
    "#CreateColumnPerValue(test_dataset,categorical_features)\n",
    "\n",
    "train_dataset = pd.get_dummies(train_dataset,columns =categorical_features)\n",
    "test_dataset = pd.get_dummies(test_dataset,columns =categorical_features)\n",
    "\n",
    "#train_dataset = train_dataset.fillna(train_dataset.mean())\n",
    "#test_dataset = test_dataset.fillna(test_dataset.mean())"
   ]
  },
  {
   "cell_type": "markdown",
   "metadata": {
    "_cell_guid": "4cdb5794-a39e-2726-de71-be2537710c83"
   },
   "source": [
    "## Looking for most relevant features"
   ]
  },
  {
   "cell_type": "code",
   "execution_count": 8,
   "metadata": {
    "_cell_guid": "99e461b9-9531-b61e-a281-c934a0312ab2"
   },
   "outputs": [],
   "source": [
    "model = xgboost.XGBRegressor(colsample_bytree=0.4,\n",
    "                 gamma=0,                 \n",
    "                 learning_rate=0.07,\n",
    "                 max_depth=3,\n",
    "                 min_child_weight=1.5,\n",
    "                 n_estimators=10000,                                                                    \n",
    "                 reg_alpha=0.75,\n",
    "                 reg_lambda=0.45,\n",
    "                 subsample=0.6,\n",
    "                 seed=42) "
   ]
  },
  {
   "cell_type": "code",
   "execution_count": 9,
   "metadata": {
    "_cell_guid": "dbb38ab6-543e-08b6-1d99-a962f4e651ce"
   },
   "outputs": [
    {
     "data": {
      "text/plain": [
       "OrderedDict([('LotArea', 2636),\n",
       "             ('LotFrontage', 2338),\n",
       "             ('BsmtUnfSF', 2267),\n",
       "             ('GrLivArea', 2142),\n",
       "             ('GarageArea', 1954),\n",
       "             ('TotalBsmtSF', 1890),\n",
       "             ('GarageYrBlt', 1885),\n",
       "             ('1stFlrSF', 1869),\n",
       "             ('WoodDeckSF', 1445),\n",
       "             ('OpenPorchSF', 1395),\n",
       "             ('BsmtFinSF1', 1385),\n",
       "             ('YearBuilt', 1244),\n",
       "             ('MoSold', 1225),\n",
       "             ('MasVnrArea', 1193),\n",
       "             ('YearRemodAdd', 1133),\n",
       "             ('2ndFlrSF', 1097),\n",
       "             ('YrSold', 798),\n",
       "             ('OverallCond', 654),\n",
       "             ('EnclosedPorch', 553),\n",
       "             ('OverallQual', 525),\n",
       "             ('TotRmsAbvGrd', 515),\n",
       "             ('BsmtFinSF2', 435),\n",
       "             ('BedroomAbvGr', 409),\n",
       "             ('ScreenPorch', 353),\n",
       "             ('Fireplaces', 311),\n",
       "             ('Neighborhood_NAmes', 287),\n",
       "             ('BsmtFullBath', 243),\n",
       "             ('LotConfig_Inside', 234),\n",
       "             ('SaleCondition_Normal', 230),\n",
       "             ('HeatingQC_Gd', 212),\n",
       "             ('LotShape_IR1', 193),\n",
       "             ('Condition1_Norm', 192),\n",
       "             ('LotShape_Reg', 184),\n",
       "             ('LotConfig_Corner', 178),\n",
       "             ('Exterior1st_MetalSd', 174),\n",
       "             ('Fence_MnPrv', 165),\n",
       "             ('Exterior1st_Wd Sdng', 164),\n",
       "             ('Neighborhood_CollgCr', 161),\n",
       "             ('Neighborhood_Edwards', 160),\n",
       "             ('GarageCars', 159),\n",
       "             ('Exterior2nd_MetalSd', 159),\n",
       "             ('Exterior1st_HdBoard', 155),\n",
       "             ('HalfBath', 150),\n",
       "             ('ExterCond_TA', 149),\n",
       "             ('BldgType_1Fam', 147),\n",
       "             ('RoofStyle_Gable', 140),\n",
       "             ('Exterior2nd_HdBoard', 140),\n",
       "             ('ExterCond_Gd', 138),\n",
       "             ('SaleCondition_Family', 135),\n",
       "             ('MSZoning_RL', 135),\n",
       "             ('BsmtHalfBath', 131),\n",
       "             ('Neighborhood_StoneBr', 131),\n",
       "             ('MSSubClass_20', 129),\n",
       "             ('Fence_GdWo', 129),\n",
       "             ('KitchenQual_Gd', 129),\n",
       "             ('Exterior2nd_Plywood', 127),\n",
       "             ('LandContour_Lvl', 125),\n",
       "             ('SaleCondition_Abnorml', 125),\n",
       "             ('RoofStyle_Hip', 124),\n",
       "             ('HeatingQC_Ex', 124),\n",
       "             ('HouseStyle_1Story', 123),\n",
       "             ('Exterior1st_Plywood', 121),\n",
       "             ('Exterior2nd_Wd Sdng', 120),\n",
       "             ('MSZoning_RM', 119),\n",
       "             ('HeatingQC_TA', 118),\n",
       "             ('ExterQual_Gd', 118),\n",
       "             ('Functional_Typ', 117),\n",
       "             ('MSSubClass_30', 115),\n",
       "             ('Exterior1st_VinylSd', 114),\n",
       "             ('Exterior2nd_VinylSd', 112),\n",
       "             ('LotConfig_CulDSac', 110),\n",
       "             ('FullBath', 109),\n",
       "             ('Foundation_CBlock', 106),\n",
       "             ('Neighborhood_Mitchel', 106),\n",
       "             ('HouseStyle_1.5Fin', 106),\n",
       "             ('KitchenQual_TA', 105),\n",
       "             ('SaleType_WD', 100),\n",
       "             ('Neighborhood_Somerst', 100),\n",
       "             ('KitchenAbvGr', 99),\n",
       "             ('Electrical_SBrkr', 97),\n",
       "             ('Neighborhood_BrkSide', 95),\n",
       "             ('CentralAir_N', 93),\n",
       "             ('Foundation_BrkTil', 93),\n",
       "             ('HouseStyle_2Story', 93),\n",
       "             ('MiscVal', 91),\n",
       "             ('Neighborhood_Crawfor', 85),\n",
       "             ('PavedDrive_Y', 82),\n",
       "             ('Exterior1st_BrkFace', 82),\n",
       "             ('Neighborhood_OldTown', 79),\n",
       "             ('Electrical_FuseA', 79),\n",
       "             ('LandSlope_Gtl', 79),\n",
       "             ('Neighborhood_Sawyer', 79),\n",
       "             ('LandContour_HLS', 78),\n",
       "             ('LandContour_Bnk', 77),\n",
       "             ('MSSubClass_50', 76),\n",
       "             ('MSZoning_C (all)', 75),\n",
       "             ('Neighborhood_Gilbert', 74),\n",
       "             ('Neighborhood_SawyerW', 73),\n",
       "             ('GarageCond_TA', 72),\n",
       "             ('ExterQual_TA', 70),\n",
       "             ('GarageQual_TA', 69),\n",
       "             ('Condition1_Artery', 66),\n",
       "             ('BldgType_TwnhsE', 66),\n",
       "             ('Neighborhood_NridgHt', 65),\n",
       "             ('Neighborhood_NWAmes', 62),\n",
       "             ('Foundation_PConc', 62),\n",
       "             ('HouseStyle_SLvl', 62),\n",
       "             ('MSSubClass_60', 61),\n",
       "             ('Condition1_Feedr', 61),\n",
       "             ('LotConfig_FR2', 60),\n",
       "             ('KitchenQual_Ex', 58),\n",
       "             ('LowQualFinSF', 56),\n",
       "             ('HeatingQC_Fa', 55),\n",
       "             ('Exterior1st_CemntBd', 53),\n",
       "             ('SaleType_COD', 50),\n",
       "             ('MSZoning_FV', 50),\n",
       "             ('PavedDrive_N', 49),\n",
       "             ('Neighborhood_NoRidge', 45),\n",
       "             ('GarageCond_Fa', 45),\n",
       "             ('ExterCond_Fa', 45),\n",
       "             ('MSSubClass_120', 44),\n",
       "             ('CentralAir_Y', 42),\n",
       "             ('SaleCondition_Partial', 40),\n",
       "             ('3SsnPorch', 40),\n",
       "             ('LandSlope_Mod', 36),\n",
       "             ('SaleType_New', 36),\n",
       "             ('Exterior2nd_AsbShng', 33),\n",
       "             ('MSSubClass_90', 33),\n",
       "             ('MSSubClass_80', 32),\n",
       "             ('Heating_GasA', 32),\n",
       "             ('Neighborhood_IDOTRR', 31),\n",
       "             ('PavedDrive_P', 31),\n",
       "             ('Neighborhood_ClearCr', 31),\n",
       "             ('Condition1_PosN', 30),\n",
       "             ('MiscFeature_Shed', 30),\n",
       "             ('GarageQual_Fa', 29),\n",
       "             ('LotShape_IR2', 29),\n",
       "             ('Functional_Min1', 28),\n",
       "             ('Fence_GdPrv', 28),\n",
       "             ('ExterQual_Ex', 25),\n",
       "             ('Neighborhood_Blmngtn', 24),\n",
       "             ('Exterior2nd_CmentBd', 24),\n",
       "             ('BldgType_Duplex', 23),\n",
       "             ('LandContour_Low', 23),\n",
       "             ('Neighborhood_Timber', 22),\n",
       "             ('Functional_Mod', 22),\n",
       "             ('Electrical_FuseF', 22),\n",
       "             ('KitchenQual_Fa', 21),\n",
       "             ('MSSubClass_160', 21),\n",
       "             ('RoofStyle_Gambrel', 21),\n",
       "             ('RoofMatl_CompShg', 20),\n",
       "             ('Exterior2nd_Stucco', 20),\n",
       "             ('Condition1_RRAe', 19),\n",
       "             ('Exterior2nd_Wd Shng', 19),\n",
       "             ('Exterior1st_AsbShng', 19),\n",
       "             ('RoofMatl_WdShngl', 19),\n",
       "             ('Exterior2nd_BrkFace', 18),\n",
       "             ('MSSubClass_70', 14),\n",
       "             ('Heating_GasW', 14),\n",
       "             ('BldgType_Twnhs', 14),\n",
       "             ('Functional_Min2', 13),\n",
       "             ('HouseStyle_SFoyer', 12),\n",
       "             ('RoofStyle_Flat', 11),\n",
       "             ('Exterior1st_Stucco', 11),\n",
       "             ('PoolArea', 11),\n",
       "             ('Condition1_RRAn', 10),\n",
       "             ('Exterior1st_WdShing', 10),\n",
       "             ('MSSubClass_190', 9),\n",
       "             ('LotShape_IR3', 9),\n",
       "             ('Neighborhood_SWISU', 7),\n",
       "             ('LandSlope_Sev', 7),\n",
       "             ('ExterQual_Fa', 5),\n",
       "             ('MSZoning_RH', 5),\n",
       "             ('Functional_Maj2', 5),\n",
       "             ('BldgType_2fmCon', 5),\n",
       "             ('Heating_Grav', 4),\n",
       "             ('Functional_Maj1', 4),\n",
       "             ('Condition2_Norm', 4),\n",
       "             ('Exterior2nd_ImStucc', 4),\n",
       "             ('Neighborhood_BrDale', 4),\n",
       "             ('RoofMatl_Tar&Grv', 4),\n",
       "             ('GarageQual_Gd', 3),\n",
       "             ('Neighborhood_MeadowV', 3),\n",
       "             ('SaleCondition_Alloca', 3),\n",
       "             ('Foundation_Slab', 3),\n",
       "             ('Foundation_Wood', 2),\n",
       "             ('Exterior2nd_Stone', 2),\n",
       "             ('Foundation_Stone', 2),\n",
       "             ('HouseStyle_2.5Fin', 2),\n",
       "             ('HouseStyle_1.5Unf', 2),\n",
       "             ('RoofStyle_Mansard', 2),\n",
       "             ('Fence_MnWw', 2),\n",
       "             ('Condition2_Feedr', 2),\n",
       "             ('SaleType_ConLI', 2),\n",
       "             ('MSSubClass_75', 2),\n",
       "             ('Street_Grvl', 1),\n",
       "             ('Street_Pave', 1),\n",
       "             ('Condition1_PosA', 1),\n",
       "             ('Condition2_PosN', 1),\n",
       "             ('HouseStyle_2.5Unf', 1),\n",
       "             ('MSSubClass_45', 1),\n",
       "             ('SaleType_ConLw', 1),\n",
       "             ('MSSubClass_180', 1)])"
      ]
     },
     "execution_count": 9,
     "metadata": {},
     "output_type": "execute_result"
    }
   ],
   "source": [
    "every_column_except_y= [col for col in train_dataset.columns if col not in ['SalePrice','Id']]\n",
    "model.fit(train_dataset[every_column_except_y],train_dataset['SalePrice'])\n",
    "\n",
    "OrderedDict(sorted(model.booster().get_fscore().items(), key=lambda t: t[1], reverse=True))"
   ]
  },
  {
   "cell_type": "code",
   "execution_count": 10,
   "metadata": {
    "_cell_guid": "39e10754-94d9-70ef-2c5e-04c2a909de42"
   },
   "outputs": [
    {
     "name": "stdout",
     "output_type": "stream",
     "text": [
      "['HeatingQC_TA', 'Neighborhood_IDOTRR', 'Neighborhood_StoneBr', 'OpenPorchSF', 'Condition1_RRAn', 'KitchenAbvGr', 'Exterior2nd_AsbShng', 'Neighborhood_NWAmes', 'LandSlope_Mod', 'BldgType_Twnhs', 'YearRemodAdd', 'Electrical_FuseA', 'BldgType_TwnhsE', 'Neighborhood_OldTown', 'ExterQual_Gd', 'Exterior2nd_VinylSd', 'Neighborhood_SawyerW', 'MSSubClass_30', 'HouseStyle_2Story', 'BsmtUnfSF', 'MSSubClass_90', 'LowQualFinSF', 'MSSubClass_50', 'Condition1_RRAe', 'RoofStyle_Hip', 'MSSubClass_80', 'GarageCond_TA', 'MSZoning_RL', 'OverallQual', 'Neighborhood_ClearCr', 'BldgType_Duplex', 'MasVnrArea', 'Exterior1st_MetalSd', 'SaleType_COD', 'RoofStyle_Flat', 'Exterior2nd_Wd Sdng', 'LotShape_IR1', 'SaleCondition_Family', 'Foundation_PConc', 'LotConfig_FR2', 'Functional_Mod', 'CentralAir_N', 'KitchenQual_Gd', 'LandContour_Lvl', 'MSZoning_C (all)', 'Exterior2nd_Plywood', 'Neighborhood_Edwards', 'Neighborhood_Mitchel', 'Exterior1st_CemntBd', 'MSSubClass_20', 'RoofMatl_CompShg', 'Exterior2nd_Wd Shng', 'Electrical_FuseF', 'Neighborhood_NoRidge', 'Exterior1st_Stucco', 'HouseStyle_SFoyer', 'MSSubClass_70', 'SaleCondition_Partial', 'Condition1_Norm', 'Neighborhood_Blmngtn', 'HeatingQC_Gd', 'Functional_Min2', 'GarageQual_TA', 'GrLivArea', 'Exterior1st_BrkFace', 'ExterQual_Ex', 'Functional_Min1', 'BsmtFullBath', 'Neighborhood_Crawfor', 'BsmtFinSF2', 'Exterior2nd_Stucco', 'Condition1_Feedr', 'ExterCond_TA', 'LandContour_Low', 'ScreenPorch', 'PavedDrive_N', 'HouseStyle_1Story', 'MSSubClass_120', 'Neighborhood_CollgCr', 'KitchenQual_Ex', 'BedroomAbvGr', 'Condition1_PosN', 'LotShape_IR2', 'LotFrontage', 'Exterior1st_Plywood', 'Neighborhood_Timber', 'Fence_GdWo', 'SaleCondition_Abnorml', 'Exterior2nd_MetalSd', 'YearBuilt', 'Heating_GasA', 'Exterior1st_Wd Sdng', 'GarageQual_Fa', 'WoodDeckSF', 'GarageCond_Fa', 'Exterior2nd_BrkFace', 'CentralAir_Y', 'KitchenQual_Fa', 'Exterior1st_AsbShng', 'LandSlope_Gtl', 'OverallCond', 'Neighborhood_NridgHt', 'YrSold', 'PavedDrive_P', 'BldgType_1Fam', 'Fence_GdPrv', 'HeatingQC_Fa', 'FullBath', 'Neighborhood_Sawyer', 'HalfBath', 'EnclosedPorch', 'Fence_MnPrv', 'HeatingQC_Ex', 'MiscFeature_Shed', 'Heating_GasW', 'SaleType_WD', 'ExterCond_Fa', 'GarageYrBlt', 'Exterior2nd_CmentBd', '3SsnPorch', 'Fireplaces', 'LandContour_HLS', 'MoSold', 'HouseStyle_SLvl', 'Neighborhood_BrkSide', 'MSSubClass_60', 'LotShape_Reg', 'Exterior1st_HdBoard', 'GarageCars', 'RoofStyle_Gambrel', 'Exterior1st_WdShing', 'LotConfig_CulDSac', 'MiscVal', '1stFlrSF', 'Exterior2nd_HdBoard', 'SaleCondition_Normal', 'Foundation_CBlock', 'BsmtHalfBath', 'LotArea', 'MSZoning_RM', 'SaleType_New', 'Neighborhood_Somerst', 'BsmtFinSF1', 'HouseStyle_1.5Fin', 'TotalBsmtSF', 'RoofStyle_Gable', '2ndFlrSF', 'LotConfig_Inside', 'KitchenQual_TA', 'Foundation_BrkTil', 'TotRmsAbvGrd', 'GarageArea', 'Neighborhood_Gilbert', 'Neighborhood_NAmes', 'RoofMatl_WdShngl', 'LandContour_Bnk', 'PavedDrive_Y', 'Exterior1st_VinylSd', 'Condition1_Artery', 'Functional_Typ', 'Electrical_SBrkr', 'ExterCond_Gd', 'PoolArea', 'MSZoning_FV', 'LotConfig_Corner', 'MSSubClass_160', 'ExterQual_TA']\n"
     ]
    }
   ],
   "source": [
    "#Let's remove the less important ones \n",
    "most_relevant_features= list( dict((k, v) for k, v in model.booster().get_fscore().items() if v >= 10).keys())\n",
    "print(most_relevant_features)"
   ]
  },
  {
   "cell_type": "markdown",
   "metadata": {
    "_cell_guid": "aa3676cb-127a-051c-6a25-b87fa3b866e8"
   },
   "source": [
    "##Analyzing most important features"
   ]
  },
  {
   "cell_type": "code",
   "execution_count": 11,
   "metadata": {
    "_cell_guid": "d6b0c5ac-ede3-bb32-5458-9120cd6e1d58"
   },
   "outputs": [
    {
     "data": {
      "image/png": "[encoded data removed]",
      "text/plain": [
       "<matplotlib.figure.Figure at 0x7f7e15d026a0>"
      ]
     },
     "metadata": {},
     "output_type": "display_data"
    }
   ],
   "source": [
    "plt.scatter(train_dataset.GrLivArea, train_dataset.SalePrice, c = \"blue\", marker = \"s\")\n",
    "plt.title(\"GrLivArea vs SalePrice\")\n",
    "plt.xlabel(\"GrLivArea\")\n",
    "plt.ylabel(\"SalePrice\")\n",
    "plt.show()"
   ]
  },
  {
   "cell_type": "code",
   "execution_count": 12,
   "metadata": {
    "_cell_guid": "ecebdfdd-3909-3413-b5a9-d42123ec6e82"
   },
   "outputs": [
    {
     "data": {
      "image/png": "[encoded data removed]",
      "text/plain": [
       "<matplotlib.figure.Figure at 0x7f7e141fda58>"
      ]
     },
     "metadata": {},
     "output_type": "display_data"
    }
   ],
   "source": [
    "plt.scatter(train_dataset.LotArea, train_dataset.SalePrice, c = \"blue\", marker = \"s\")\n",
    "plt.title(\"LotArea vs SalePrice\")\n",
    "plt.xlabel(\"LotArea\")\n",
    "plt.ylabel(\"SalePrice\")\n",
    "plt.show()"
   ]
  },
  {
   "cell_type": "code",
   "execution_count": 13,
   "metadata": {
    "_cell_guid": "f8178ad6-8221-1cca-5112-4e013a4e1c06"
   },
   "outputs": [],
   "source": [
    "#removing outliers\n",
    "train_dataset = train_dataset[train_dataset.GrLivArea < 8.25]\n",
    "train_dataset = train_dataset[train_dataset.LotArea < 11.5]\n",
    "train_dataset = train_dataset[train_dataset.SalePrice<13]\n",
    "train_dataset = train_dataset[train_dataset.SalePrice>10.75]\n",
    "train_dataset.drop(\"Id\", axis=1, inplace=True)"
   ]
  },
  {
   "cell_type": "markdown",
   "metadata": {
    "_cell_guid": "f1d357b7-b727-4ad0-1e80-70186d5fe391"
   },
   "source": [
    "#Calculating best metaparameters"
   ]
  },
  {
   "cell_type": "code",
   "execution_count": 14,
   "metadata": {
    "_cell_guid": "c0ce324b-d24d-b5cc-a3c5-c23fd44ba714"
   },
   "outputs": [
    {
     "data": {
      "text/plain": [
       "XGBRegressor(base_score=0.5, colsample_bylevel=1, colsample_bytree=0.4,\n",
       "       gamma=0, learning_rate=0.07, max_delta_step=0, max_depth=3,\n",
       "       min_child_weight=1.5, missing=None, n_estimators=10000, nthread=-1,\n",
       "       objective='reg:linear', reg_alpha=0.75, reg_lambda=0.45,\n",
       "       scale_pos_weight=1, seed=42, silent=True, subsample=0.6)"
      ]
     },
     "execution_count": 14,
     "metadata": {},
     "output_type": "execute_result"
    }
   ],
   "source": [
    "train_x=train_dataset[most_relevant_features]\n",
    "train_y=train_dataset['SalePrice']\n",
    "\n",
    "#for tuning parameters\n",
    "#parameters_for_testing = {\n",
    "#    'colsample_bytree':[0.4,0.6,0.8],\n",
    "#    'gamma':[0,0.03,0.1,0.3],\n",
    "#    'min_child_weight':[1.5,6,10],\n",
    "#    'learning_rate':[0.1,0.07],\n",
    "#    'max_depth':[3,5],\n",
    "#    'n_estimators':[10000],\n",
    "#    'reg_alpha':[1e-5, 1e-2,  0.75],\n",
    "#    'reg_lambda':[1e-5, 1e-2, 0.45],\n",
    "#    'subsample':[0.6,0.95]  \n",
    "#}\n",
    "\n",
    "                    \n",
    "#xgb_model = xgboost.XGBRegressor(learning_rate =0.1, n_estimators=1000, max_depth=5,\n",
    "#     min_child_weight=1, gamma=0, subsample=0.8, colsample_bytree=0.8, nthread=6, scale_pos_weight=1, seed=27)\n",
    "\n",
    "#gsearch1 = GridSearchCV(estimator = xgb_model, param_grid = parameters_for_testing, n_jobs=6,iid=False, verbose=10,scoring='neg_mean_squared_error')\n",
    "#gsearch1.fit(train_x,train_y)\n",
    "#print (gsearch1.grid_scores_)\n",
    "#print('best params')\n",
    "#print (gsearch1.best_params_)\n",
    "#print('best score')\n",
    "#print (gsearch1.best_score_)\n",
    "\n",
    "best_xgb_model = xgboost.XGBRegressor(colsample_bytree=0.4,\n",
    "                 gamma=0,                 \n",
    "                 learning_rate=0.07,\n",
    "                 max_depth=3,\n",
    "                 min_child_weight=1.5,\n",
    "                 n_estimators=10000,                                                                    \n",
    "                 reg_alpha=0.75,\n",
    "                 reg_lambda=0.45,\n",
    "                 subsample=0.6,\n",
    "                 seed=42)\n",
    "best_xgb_model.fit(train_x,train_y)"
   ]
  },
  {
   "cell_type": "markdown",
   "metadata": {
    "_cell_guid": "07fae06a-c8cb-78b7-7c9b-ab26c9f5821b"
   },
   "source": [
    "#Let's predict for test data and generate submission file"
   ]
  },
  {
   "cell_type": "code",
   "execution_count": 15,
   "metadata": {
    "_cell_guid": "d32e9a7d-2ae0-3289-a9ff-59a87a4aac5c"
   },
   "outputs": [],
   "source": [
    "test_dataset['Prediction'] = np.expm1(best_xgb_model.predict(test_dataset[most_relevant_features]))\n",
    "filename = 'submission.csv'\n",
    "pd.DataFrame({'Id': test_dataset.Id, 'SalePrice': test_dataset.Prediction}).to_csv(filename, index=False)"
   ]
  },
  {
   "cell_type": "code",
   "execution_count": 16,
   "metadata": {
    "_cell_guid": "438a47a0-e17b-f8cd-4a58-d3b412726751"
   },
   "outputs": [
    {
     "name": "stdout",
     "output_type": "stream",
     "text": [
      "0    126221.796875\n",
      "1    163231.468750\n",
      "2    192163.156250\n",
      "3    195941.109375\n",
      "4    182045.531250\n",
      "Name: Prediction, dtype: float32\n",
      "1459\n"
     ]
    }
   ],
   "source": [
    "print(test_dataset['Prediction'].head())\n",
    "print(test_dataset['Prediction'].count())"
   ]
  },
  {
   "cell_type": "code",
   "execution_count": 17,
   "metadata": {
    "_cell_guid": "11e99a09-46be-2d62-31f3-522909df46b5"
   },
   "outputs": [],
   "source": []
  }
 ],
 "metadata": {
  "_change_revision": 2,
  "_is_fork": false,
  "kernelspec": {
   "display_name": "Python 3",
   "language": "python",
   "name": "python3"
  },
  "language_info": {
   "codemirror_mode": {
    "name": "ipython",
    "version": 3
   },
   "file_extension": ".py",
   "mimetype": "text/x-python",
   "name": "python",
   "nbconvert_exporter": "python",
   "pygments_lexer": "ipython3",
   "version": "3.5.2"
  }
 },
 "nbformat": 4,
 "nbformat_minor": 0
}
